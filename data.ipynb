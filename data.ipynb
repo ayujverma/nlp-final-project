{
 "cells": [
  {
   "cell_type": "code",
   "execution_count": null,
   "metadata": {},
   "outputs": [],
   "source": [
    "# imports\n",
    "import os\n",
    "import json\n",
    "import pandas as pd\n",
    "%pip install SoccerNet\n",
    "from SoccerNet.Downloader import SoccerNetDownloader\n",
    "%pip install datasets\n",
    "from datasets import load_dataset\n",
    "from tqdm import tqdm"
   ]
  },
  {
   "cell_type": "code",
   "execution_count": null,
   "metadata": {},
   "outputs": [],
   "source": [
    "# soccernet downloads\n",
    "\n",
    "mySoccerNetDownloader = SoccerNetDownloader(LocalDirectory=\"./soccernet\")\n",
    "\n",
    "mySoccerNetDownloader.downloadGames(files=[\"Labels-v2.json\"], split=[\"train\", \"valid\", \"test\"]) # labels\n",
    "# mySoccerNetDownloader.downloadDataTask(task=\"spotting-2023\", split=[\"train\", \"valid\", \"test\", \"challenge\"]) # highlight labels for 2023 challenge task\n",
    "# mySoccerNetDownloader.downloadGames(files=[\"1_ResNET_TF2.npy\", \"2_ResNET_TF2.npy\"], split=[\"train\", \"valid\", \"test\"]) # visual features (not needed)\n",
    "\n",
    "# mySoccerNetDownloader.password = \"Password from NDA\" # TODO: we need access\n",
    "# videos:\n",
    "# mySoccerNetDownloader.downloadGames(files=[\"1_224p.mkv\", \"2_224p.mkv\"], split=[\"train\", \"valid\", \"test\"]) # 224p resolution\n",
    "# mySoccerNetDownloader.downloadGames(files=[\"1_720p.mkv\", \"2_720p.mkv\"], split=[\"train\", \"valid\", \"test\"]) # 720p resolution"
   ]
  },
  {
   "cell_type": "code",
   "execution_count": 17,
   "metadata": {},
   "outputs": [],
   "source": [
    "\"\"\"\n",
    "    helper function to convert position (milliseconds) to seconds and extract the half from gameTime\n",
    "\n",
    "    args:\n",
    "        position (str): the position in milliseconds as a string\n",
    "        game_time (str): the gameTime string in the format \"1 - mm:ss\" or \"2 - mm:ss\"\n",
    "\n",
    "    returns:\n",
    "        tuple: a tuple containing:\n",
    "            - time_in_seconds (float): the position converted to seconds\n",
    "            - half (int): the half of the game (1 or 2)\n",
    "\"\"\"\n",
    "def position_to_seconds_and_half(position, game_time):\n",
    "    time_in_seconds = float(position) / 1000\n",
    "    half = int(game_time.split(\" - \")[0]) # extract the half from gameTime\n",
    "    return time_in_seconds, half"
   ]
  },
  {
   "cell_type": "code",
   "execution_count": 18,
   "metadata": {},
   "outputs": [
    {
     "name": "stdout",
     "output_type": "stream",
     "text": [
      "   time_in_seconds                                         match_name  \\\n",
      "0            0.000  england_epl/2014-2015/2015-02-21 - 18-00 Chels...   \n",
      "1          133.295  england_epl/2014-2015/2015-02-21 - 18-00 Chels...   \n",
      "2          149.168  england_epl/2014-2015/2015-02-21 - 18-00 Chels...   \n",
      "3          156.098  england_epl/2014-2015/2015-02-21 - 18-00 Chels...   \n",
      "4          182.775  england_epl/2014-2015/2015-02-21 - 18-00 Chels...   \n",
      "\n",
      "              label  \n",
      "0          Kick-off  \n",
      "1  Ball out of play  \n",
      "2          Throw-in  \n",
      "3  Ball out of play  \n",
      "4            Corner  \n"
     ]
    }
   ],
   "source": [
    "# initialize list to hold all data\n",
    "all_data = []\n",
    "\n",
    "for root, dirs, files in os.walk('soccernet'):\n",
    "    for file in files:\n",
    "        if file == \"Labels-v2.json\":\n",
    "            file_path = os.path.join(root, file)\n",
    "            with open(file_path, \"r\") as f:\n",
    "                labels_data = json.load(f)\n",
    "\n",
    "            match_name = labels_data.get(\"UrlLocal\", \"\")  # match_name is from the UrlLocal key\n",
    "            annotations = labels_data.get(\"annotations\", []) # events from the \"annotations\" key\n",
    "\n",
    "            for label_entry in annotations:\n",
    "                # convert position value from milliseconds to seconds\n",
    "                time_in_seconds, half = position_to_seconds_and_half(label_entry[\"position\"], label_entry[\"gameTime\"])\n",
    "                match_name_with_half = f\"{match_name}{half}\" # match transcript \"game\" name\n",
    "                label = label_entry[\"label\"]\n",
    "                all_data.append({\n",
    "                    \"time_in_seconds\": time_in_seconds,\n",
    "                    \"match_name\": match_name_with_half,\n",
    "                    \"label\": label\n",
    "                })\n",
    "\n",
    "# convert the list to dataframe and save to csv\n",
    "labels_df = pd.DataFrame(all_data)\n",
    "labels_df.to_csv(\"labels_df.csv\", index=False)\n",
    "print(labels_df.head())"
   ]
  },
  {
   "cell_type": "code",
   "execution_count": 19,
   "metadata": {},
   "outputs": [],
   "source": [
    "# load transcript dataset\n",
    "transcript_dataset = load_dataset(\"SoccerNet/SN-echoes\", \n",
    "                      name=\"whisper_v3\", \n",
    "                      split=\"en\") # load only the English split\n",
    "transcripts_df = pd.DataFrame(transcript_dataset)"
   ]
  },
  {
   "cell_type": "code",
   "execution_count": 20,
   "metadata": {},
   "outputs": [
    {
     "name": "stderr",
     "output_type": "stream",
     "text": [
      "Processing rows: 100%|██████████| 679738/679738 [1:26:44<00:00, 130.62it/s]\n"
     ]
    },
    {
     "name": "stdout",
     "output_type": "stream",
     "text": [
      "   segment_index  start_time    end_time  \\\n",
      "0              0   30.000000   59.980000   \n",
      "1              1   60.000000   72.440002   \n",
      "2              2   73.260002   89.199997   \n",
      "3              3   90.000000  106.180000   \n",
      "4              4  106.180000  117.360001   \n",
      "\n",
      "                                                text  \\\n",
      "0                         and everything is possible   \n",
      "1  Felipe Luis for Azpilicueta and Zouma for Keji...   \n",
      "2  César opened towards Eden Hazard, Hazard who w...   \n",
      "3  Cuadrado left again for Hazard, there is Juan ...   \n",
      "4  and there are quite a few, not only this seaso...   \n",
      "\n",
      "                                                game          label  \n",
      "0  england_epl/2014-2015/2015-02-21 - 18-00 Chels...  non-highlight  \n",
      "1  england_epl/2014-2015/2015-02-21 - 18-00 Chels...  non-highlight  \n",
      "2  england_epl/2014-2015/2015-02-21 - 18-00 Chels...  non-highlight  \n",
      "3  england_epl/2014-2015/2015-02-21 - 18-00 Chels...  non-highlight  \n",
      "4  england_epl/2014-2015/2015-02-21 - 18-00 Chels...  non-highlight  \n"
     ]
    }
   ],
   "source": [
    "transcripts_df['label'] = 'non-highlight'\n",
    "\n",
    "# update label based on time and game matching conditions\n",
    "for idx, row in tqdm(transcripts_df.iterrows(), total=len(transcripts_df), desc=\"Processing rows\"):\n",
    "    matching_label = labels_df[\n",
    "        (labels_df['time_in_seconds'] >= row['start_time']) &\n",
    "        (labels_df['time_in_seconds'] <= row['end_time']) &\n",
    "        (labels_df['match_name'] == row['game'])\n",
    "    ]\n",
    "    if not matching_label.empty: # found a match\n",
    "        transcripts_df.at[idx, 'label'] = matching_label.iloc[0]['label']\n",
    "\n",
    "transcripts_df.to_csv(\"transcripts_df.csv\", index=False)\n",
    "print(transcripts_df.head())"
   ]
  },
  {
   "cell_type": "code",
   "execution_count": null,
   "metadata": {},
   "outputs": [
    {
     "name": "stdout",
     "output_type": "stream",
     "text": [
      "label\n",
      "Ball out of play      31810\n",
      "Throw-in              18918\n",
      "Foul                  11674\n",
      "Indirect free-kick    10521\n",
      "Clearance              7896\n",
      "Shots on target        5820\n",
      "Shots off target       5256\n",
      "Corner                 4836\n",
      "Substitution           2839\n",
      "Kick-off               2566\n",
      "Direct free-kick       2200\n",
      "Offside                2098\n",
      "Yellow card            2047\n",
      "Goal                   1703\n",
      "Penalty                 173\n",
      "Red card                 55\n",
      "Yellow->red card         46\n",
      "Name: count, dtype: int64\n",
      "label\n",
      "non-highlight         624183\n",
      "Ball out of play       15204\n",
      "Throw-in                9108\n",
      "Foul                    6162\n",
      "Indirect free-kick      5456\n",
      "Clearance               4208\n",
      "Shots on target         3124\n",
      "Shots off target        2771\n",
      "Corner                  2549\n",
      "Substitution            1509\n",
      "Kick-off                1469\n",
      "Direct free-kick        1207\n",
      "Offside                 1164\n",
      "Yellow card             1093\n",
      "Goal                     425\n",
      "Penalty                   53\n",
      "Red card                  29\n",
      "Yellow->red card          24\n",
      "Name: count, dtype: int64\n"
     ]
    }
   ],
   "source": [
    "# data analysis\n",
    "label_counts = labels_df['label'].value_counts()\n",
    "print(label_counts)\n",
    "transcripts_label_counts = transcripts_df['label'].value_counts()\n",
    "print(transcripts_label_counts)\n",
    "\n",
    "# TODO: we are losing a lot of highlights, we need to investigate why"
   ]
  }
 ],
 "metadata": {
  "kernelspec": {
   "display_name": "Python 3",
   "language": "python",
   "name": "python3"
  },
  "language_info": {
   "codemirror_mode": {
    "name": "ipython",
    "version": 3
   },
   "file_extension": ".py",
   "mimetype": "text/x-python",
   "name": "python",
   "nbconvert_exporter": "python",
   "pygments_lexer": "ipython3",
   "version": "3.12.3"
  }
 },
 "nbformat": 4,
 "nbformat_minor": 2
}
