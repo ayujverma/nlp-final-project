{
 "cells": [
  {
   "cell_type": "code",
   "execution_count": 1,
   "metadata": {},
   "outputs": [],
   "source": [
    "# imports\n",
    "import os\n",
    "import json\n",
    "import pandas as pd"
   ]
  },
  {
   "cell_type": "code",
   "execution_count": null,
   "metadata": {},
   "outputs": [],
   "source": [
    "# helper function to convert position (milliseconds) to seconds\n",
    "# now we can match times to trasncripts from soccernet huggingface dataset\n",
    "def position_to_seconds(position):\n",
    "    return float(position) / 1000"
   ]
  },
  {
   "cell_type": "code",
   "execution_count": null,
   "metadata": {},
   "outputs": [
    {
     "name": "stdout",
     "output_type": "stream",
     "text": [
      "   time_in_seconds                                         match_name  \\\n",
      "0            0.000  england_epl/2014-2015/2015-02-21 - 18-00 Chels...   \n",
      "1          133.295  england_epl/2014-2015/2015-02-21 - 18-00 Chels...   \n",
      "2          149.168  england_epl/2014-2015/2015-02-21 - 18-00 Chels...   \n",
      "3          156.098  england_epl/2014-2015/2015-02-21 - 18-00 Chels...   \n",
      "4          182.775  england_epl/2014-2015/2015-02-21 - 18-00 Chels...   \n",
      "\n",
      "              label  \n",
      "0          Kick-off  \n",
      "1  Ball out of play  \n",
      "2          Throw-in  \n",
      "3  Ball out of play  \n",
      "4            Corner  \n"
     ]
    }
   ],
   "source": [
    "# initialize list to hold all data\n",
    "all_data = []\n",
    "\n",
    "for root, dirs, files in os.walk('soccernet'):\n",
    "    for file in files:\n",
    "        if file == \"Labels-v2.json\":\n",
    "            file_path = os.path.join(root, file)\n",
    "            with open(file_path, \"r\") as f:\n",
    "                labels_data = json.load(f)\n",
    "\n",
    "            match_name = labels_data.get(\"UrlLocal\", \"\")  # match_name is from the UrlLocal key\n",
    "            annotations = labels_data.get(\"annotations\", []) # events from the \"annotations\" key\n",
    "\n",
    "            for label_entry in annotations:\n",
    "                # convert position value from milliseconds to seconds\n",
    "                time_in_seconds = position_to_seconds(label_entry[\"position\"])\n",
    "                label = label_entry[\"label\"]\n",
    "                all_data.append({\n",
    "                    \"time_in_seconds\": time_in_seconds,\n",
    "                    \"match_name\": match_name,\n",
    "                    \"label\": label\n",
    "                })\n",
    "\n",
    "# convert the list to dataframe and save to csv\n",
    "df = pd.DataFrame(all_data)\n",
    "df.to_csv(\"labels_dataframe.csv\", index=False)\n",
    "print(df.head())\n"
   ]
  }
 ],
 "metadata": {
  "kernelspec": {
   "display_name": "base",
   "language": "python",
   "name": "python3"
  },
  "language_info": {
   "codemirror_mode": {
    "name": "ipython",
    "version": 3
   },
   "file_extension": ".py",
   "mimetype": "text/x-python",
   "name": "python",
   "nbconvert_exporter": "python",
   "pygments_lexer": "ipython3",
   "version": "3.11.7"
  }
 },
 "nbformat": 4,
 "nbformat_minor": 2
}
